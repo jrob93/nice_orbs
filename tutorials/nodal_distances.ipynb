{
 "cells": [
  {
   "cell_type": "code",
   "execution_count": 1,
   "id": "a7d309a7",
   "metadata": {},
   "outputs": [],
   "source": [
    "%matplotlib notebook"
   ]
  },
  {
   "cell_type": "code",
   "execution_count": 2,
   "id": "e4a39efb",
   "metadata": {},
   "outputs": [],
   "source": [
    "%matplotlib inline"
   ]
  },
  {
   "cell_type": "code",
   "execution_count": 3,
   "id": "f8102ddb",
   "metadata": {},
   "outputs": [],
   "source": [
    "import pandas as pd\n",
    "import numpy as np\n",
    "import matplotlib.pyplot as plt\n",
    "import matplotlib.gridspec as gridspec\n",
    "import os\n",
    "import sys\n",
    "\n",
    "from astropy import units as u\n",
    "from astropy.coordinates import SkyCoord\n",
    "from astropy.time import Time"
   ]
  },
  {
   "cell_type": "code",
   "execution_count": 4,
   "id": "7db210ca",
   "metadata": {},
   "outputs": [
    {
     "name": "stdout",
     "output_type": "stream",
     "text": [
      "/Users/jrobinson/nice_orbs/tutorials\n"
     ]
    }
   ],
   "source": [
    "# If not pip installing add import path\n",
    "print(os.getcwd())\n",
    "sys.path.insert(0, os.path.abspath(os.path.join(os.getcwd(), '..')))"
   ]
  },
  {
   "cell_type": "code",
   "execution_count": 5,
   "id": "bb87bc20",
   "metadata": {},
   "outputs": [],
   "source": [
    "from nice_orbs.orb_class import BodyOrb\n",
    "import nice_orbs.orb_funcs as orb_funcs"
   ]
  },
  {
   "cell_type": "code",
   "execution_count": 6,
   "id": "8ea79dde",
   "metadata": {},
   "outputs": [],
   "source": [
    "# define orbital parameters for body 1 and 2\n",
    "\n",
    "orb_dict1 = {\"a\":2,\n",
    "            \"e\":0.3,\n",
    "            \"inc\":np.radians(30),\n",
    "            \"peri\":np.radians(30),\n",
    "            \"node\":np.radians(60),\n",
    "            \"M\":np.radians(120)\n",
    "           }\n",
    "orb_dict2 = {\"a\":1,\n",
    "            \"e\":0.3,\n",
    "            \"inc\":np.radians(120),\n",
    "            \"peri\":np.radians(175),\n",
    "            \"node\":np.radians(45),\n",
    "            \"M\":np.radians(90)\n",
    "           }"
   ]
  },
  {
   "cell_type": "code",
   "execution_count": 7,
   "id": "c78dd887",
   "metadata": {},
   "outputs": [
    {
     "name": "stdout",
     "output_type": "stream",
     "text": [
      "a=2,e=0.3,inc=0.5235987755982988,peri=0.5235987755982988,node=1.0471975511965976,f=None\n"
     ]
    }
   ],
   "source": [
    "# define the primary orbit\n",
    "bod1 = BodyOrb()\n",
    "bod1.load_dict(orb_dict1)\n",
    "bod1.print_orb()"
   ]
  },
  {
   "cell_type": "code",
   "execution_count": 8,
   "id": "96b64a2e",
   "metadata": {},
   "outputs": [
    {
     "name": "stdout",
     "output_type": "stream",
     "text": [
      "a=2,e=0.3,inc=0.5235987755982988,peri=0.5235987755982988,node=1.0471975511965976,f=2.51895611193094\n"
     ]
    }
   ],
   "source": [
    "# calculate the required values and vectors for the primary orbit\n",
    "bod1.calc_orb_vectors()\n",
    "bod1.calc_values()\n",
    "bod1.print_orb()"
   ]
  },
  {
   "cell_type": "code",
   "execution_count": 9,
   "id": "6ae07113",
   "metadata": {},
   "outputs": [
    {
     "name": "stdout",
     "output_type": "stream",
     "text": [
      "a=1,e=0.3,inc=2.0943951023931953,peri=3.0543261909900767,node=0.7853981633974483,f=2.138780472453006\n"
     ]
    }
   ],
   "source": [
    "# define the 2nd orbit and calulate values & vectors\n",
    "bod2 = BodyOrb()\n",
    "bod2.load_dict(orb_dict2)\n",
    "bod2.calc_orb_vectors()\n",
    "bod2.calc_values()\n",
    "bod2.print_orb()"
   ]
  },
  {
   "cell_type": "code",
   "execution_count": 10,
   "id": "e97494d5",
   "metadata": {},
   "outputs": [
    {
     "data": {
      "text/plain": [
       "(100, 1)"
      ]
     },
     "execution_count": 10,
     "metadata": {},
     "output_type": "execute_result"
    }
   ],
   "source": [
    "# define range of f_true to plot orbit positions\n",
    "f_true = np.linspace(0,2*np.pi,100)\n",
    "f_true = f_true.reshape((len(f_true),1))\n",
    "f_true.shape"
   ]
  },
  {
   "cell_type": "code",
   "execution_count": 11,
   "id": "b41be953",
   "metadata": {},
   "outputs": [],
   "source": [
    "# define a surface in the xy plane\n",
    "xx, yy = np.meshgrid(np.linspace(-3,3,2), np.linspace(-3,3,2))\n",
    "zz = np.zeros(xx.shape)"
   ]
  },
  {
   "cell_type": "code",
   "execution_count": 12,
   "id": "c739e08f",
   "metadata": {},
   "outputs": [
    {
     "data": {
      "text/plain": [
       "array([[ 0.5      , -0.75     ,  0.4330127],\n",
       "       [ 0.8660254,  0.4330127, -0.25     ],\n",
       "       [ 0.       ,  0.5      ,  0.8660254]])"
      ]
     },
     "execution_count": 12,
     "metadata": {},
     "output_type": "execute_result"
    }
   ],
   "source": [
    "# define the transform from cartesian (x, y, z) ref frame to bod1 ref frame (_x, _y, _z)\n",
    "# In the _x_y_z frame the _x axis is aligned with the bod1 ascending node (this is not the bod1:bod2 mutual ascending node!)\n",
    "# i.e. rotate xyz by bod1.node around z\n",
    "# _x_y_z is coplanar to the bod1 orbital plane\n",
    "# i.e. then rotate by bod1.inc around _x\n",
    "trans_bod1 = orb_funcs.rot_matrix(alpha = bod1.inc, gamma = bod1.node)\n",
    "trans_bod1"
   ]
  },
  {
   "cell_type": "code",
   "execution_count": 13,
   "id": "ee88a56a",
   "metadata": {},
   "outputs": [
    {
     "data": {
      "text/plain": [
       "array([[ 0.5      ,  0.8660254,  0.       ],\n",
       "       [-0.75     ,  0.4330127,  0.5      ],\n",
       "       [ 0.4330127, -0.25     ,  0.8660254]])"
      ]
     },
     "execution_count": 13,
     "metadata": {},
     "output_type": "execute_result"
    }
   ],
   "source": [
    "# inverse of trans_bod1: transform from bod1 ref frame to cart ref frame\n",
    "# note that we change the sign of the angles and the order of operation around the xyz axes\n",
    "_trans_bod1 = orb_funcs.rot_matrix(alpha = -bod1.inc, gamma = -bod1.node, order = [2,1,0])\n",
    "_trans_bod1"
   ]
  },
  {
   "cell_type": "code",
   "execution_count": 14,
   "id": "dc7d7cdc",
   "metadata": {},
   "outputs": [
    {
     "name": "stdout",
     "output_type": "stream",
     "text": [
      "[[1 0 0]\n",
      " [0 1 0]\n",
      " [0 0 1]] (3, 3)\n",
      "[[ 0.5        0.8660254  0.       ]\n",
      " [-0.75       0.4330127  0.5      ]\n",
      " [ 0.4330127 -0.25       0.8660254]] (3, 3)\n"
     ]
    }
   ],
   "source": [
    "# get the unit vectors in both reference frames\n",
    "x_vec = np.array([1,0,0]).T\n",
    "y_vec = np.array([0,1,0]).T\n",
    "z_vec = np.array([0,0,1]).T\n",
    "unit_vec = np.array([x_vec,y_vec,z_vec])\n",
    "print(unit_vec,unit_vec.shape)\n",
    "_unit_vec = np.dot(trans_bod1,unit_vec).T\n",
    "print(_unit_vec,_unit_vec.shape)"
   ]
  },
  {
   "cell_type": "code",
   "execution_count": 15,
   "id": "529974c2",
   "metadata": {},
   "outputs": [],
   "source": [
    "# get the x, y surface representation in the _x, _y frame\n",
    "\n",
    "ref_plane = np.array([xx,yy,zz])\n",
    "\n",
    "_xx = []\n",
    "_yy = []\n",
    "_zz = []\n",
    "for i in range(ref_plane.shape[1]):\n",
    "    for j in range(ref_plane.shape[2]):\n",
    "        _vec = np.dot(trans_bod1, ref_plane[:,i,j])\n",
    "        _xx.append(_vec[0])\n",
    "        _yy.append(_vec[1])\n",
    "        _zz.append(_vec[2])\n",
    "        \n",
    "_xx = np.array(_xx).reshape(xx.shape)\n",
    "_yy = np.array(_yy).reshape(yy.shape)\n",
    "_zz = np.array(_zz).reshape(zz.shape)"
   ]
  },
  {
   "cell_type": "code",
   "execution_count": 16,
   "id": "5cd1c444",
   "metadata": {},
   "outputs": [
    {
     "name": "stdout",
     "output_type": "stream",
     "text": [
      "ascending nodal dist = 0.19283218200382474\n",
      "descending nodal dist = 1.631902852827076\n"
     ]
    },
    {
     "data": {
      "image/png": "[encoded data removed]",
      "text/plain": [
       "<Figure size 432x288 with 1 Axes>"
      ]
     },
     "metadata": {
      "needs_background": "light"
     },
     "output_type": "display_data"
    }
   ],
   "source": [
    "# calculate nodal distance in the bod1 frame\n",
    "x_plot = \"x\"\n",
    "y_plot = \"y\"\n",
    "z_plot = \"z\"\n",
    "\n",
    "fig = plt.figure()\n",
    "gs = gridspec.GridSpec(1,1)\n",
    "ax1 = plt.subplot(gs[0,0],projection='3d',computed_zorder=False)\n",
    "\n",
    "# mark the origin\n",
    "ax1.scatter(0,0,0, marker = \"+\", c = \"k\", s = 50)\n",
    "\n",
    "# plot the _x, _y surface which is coplanar to bod1\n",
    "c2 = ax1.plot_surface(_xx, _yy, _zz, \n",
    "                 label = \"bod1 orbit frame\",\n",
    "                 alpha=0.2)\n",
    "# modify plot parameters to get the legend\n",
    "c2._facecolors2d=c2._facecolor3d\n",
    "c2._edgecolors2d=c2._edgecolor3d\n",
    "\n",
    "# plot the x, y, z frame unit vectors\n",
    "for i,l in zip(range(unit_vec.shape[0]),[\"x\",\"y\",\"z\"]):\n",
    "    ax1.plot([0,unit_vec[i,0]],[0,unit_vec[i,1]],[0,unit_vec[i,2]],\n",
    "            c = \"k\", label = l, ls = \"--\", zorder = 5, lw = 2)\n",
    "\n",
    "# For each orbit:\n",
    "for i,bod in enumerate([bod1, bod2]):\n",
    "\n",
    "    # get the orbit positions and apsidal, nodal coordinates (in x, y, z frame)\n",
    "    orb = np.array(bod.pos_vel_from_orbit(f_true)[[x_plot,y_plot,z_plot]])\n",
    "    angle = 0\n",
    "    aps_line = np.array(bod.pos_vel_from_orbit(np.array([angle,angle+np.pi]).reshape((2,1)))[[x_plot,y_plot,z_plot]])\n",
    "    angle = - bod.peri\n",
    "    node_line = np.array(bod.pos_vel_from_orbit(np.array([angle,angle + np.pi]).reshape((2,1)))[[x_plot,y_plot,z_plot]])\n",
    "\n",
    "    # plot the orbit, apsides and nodes\n",
    "    ax1.plot(orb[:,0],orb[:,1],orb[:,2], c = \"C{}\".format(i))\n",
    "    ax1.plot(aps_line[:,0],aps_line[:,1],aps_line[:,2],\n",
    "               c = \"r\",\n",
    "            label = \"apsidal line {}\".format(i))\n",
    "    ax1.plot(node_line[:,0],node_line[:,1],node_line[:,2],\n",
    "               c = \"b\",\n",
    "            label = \"nodal line {}\".format(i))\n",
    "    \n",
    "    # for bod2:\n",
    "    if i>0:\n",
    "        \n",
    "        # use the function to find the true anomalies (in bod1/bod2 orbital elements) of the mutual ascending node between bod1 and bod2\n",
    "        node_mutual_f1,node_mutual_f2 = orb_funcs.mutual_ascending_node_f_true(bod1,bod2) # nodes are for bod1 and bod2 respectively\n",
    "        \n",
    "        # loop through the ascending and descending (180 degrees away from ascending)\n",
    "        for _f1,_f2,node_label in zip([node_mutual_f1,node_mutual_f1+np.pi],\n",
    "                           [node_mutual_f2,node_mutual_f2+np.pi], \n",
    "                          [\"ascending\",\"descending\"]):\n",
    "\n",
    "            # find the vector position of the node for both orbits\n",
    "            node1 = bod1.r_vec(_f1)\n",
    "            node2 = bod2.r_vec(_f2)\n",
    "            # find the distance between the nodal position vectors\n",
    "            node_dist = np.linalg.norm(node2 - node1)\n",
    "            print(\"{} nodal dist = {}\".format(node_label,node_dist))\n",
    "        \n",
    "\n",
    "            ax1.plot([node1[0],node2[0]],[node1[1],node2[1]],[node1[2],node2[2]],\n",
    "                 c = \"gold\", lw = 3)            \n",
    "            ax1.scatter(node2[0],node2[1],node2[2],\n",
    "                 edgecolor = \"k\", facecolor = \"gold\",\n",
    "                        label = \"bod2 {} node\".format(node_label),\n",
    "                       zorder = 5)\n",
    "            ax1.scatter(node1[0],node1[1],node1[2],\n",
    "                        label = \"bod1 {} node\".format(node_label),\n",
    "                 c = \"k\", zorder = 5)\n",
    "    \n",
    "    \n",
    "ax1.set_xlabel(x_plot)\n",
    "ax1.set_ylabel(y_plot)\n",
    "ax1.set_zlabel(z_plot)\n",
    "\n",
    "# ax1.set_box_aspect((np.ptp(orb[:,0]), np.ptp(orb[:,1]), np.ptp(orb[:,2])))\n",
    "\n",
    "# ax1.legend()\n",
    "\n",
    "plt.show()"
   ]
  },
  {
   "cell_type": "code",
   "execution_count": null,
   "id": "47430328",
   "metadata": {},
   "outputs": [],
   "source": []
  }
 ],
 "metadata": {
  "kernelspec": {
   "display_name": "nice-orbs",
   "language": "python",
   "name": "nice-orbs"
  },
  "language_info": {
   "codemirror_mode": {
    "name": "ipython",
    "version": 3
   },
   "file_extension": ".py",
   "mimetype": "text/x-python",
   "name": "python",
   "nbconvert_exporter": "python",
   "pygments_lexer": "ipython3",
   "version": "3.9.9"
  }
 },
 "nbformat": 4,
 "nbformat_minor": 5
}
